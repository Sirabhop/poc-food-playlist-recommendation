{
 "cells": [
  {
   "cell_type": "markdown",
   "metadata": {},
   "source": [
    "Personalization Flow\n",
    "- Take different behavior -> view -> purchase (time?)\n",
    "- Aggregate and create weight\n",
    "- Display -> food bubble and playlist"
   ]
  },
  {
   "cell_type": "code",
   "execution_count": 52,
   "metadata": {},
   "outputs": [],
   "source": [
    "import numpy as np\n",
    "import pandas as pd\n",
    "import pickle\n",
    "import json\n",
    "\n",
    "from tqdm import tqdm\n",
    "from sklearn.neighbors import NearestNeighbors\n",
    "from config import get_image_url"
   ]
  },
  {
   "cell_type": "code",
   "execution_count": 50,
   "metadata": {},
   "outputs": [
    {
     "data": {
      "text/plain": [
       "756"
      ]
     },
     "execution_count": 50,
     "metadata": {},
     "output_type": "execute_result"
    }
   ],
   "source": [
    "list_embd = np.load('./data/list_embd.npy')\n",
    "list_keys = np.load('./data/list_keys.npy')\n",
    "len(list_keys)"
   ]
  },
  {
   "cell_type": "code",
   "execution_count": 13,
   "metadata": {},
   "outputs": [],
   "source": [
    "search_algo = NearestNeighbors(n_neighbors=20, algorithm='ball_tree').fit(list_embd)"
   ]
  },
  {
   "cell_type": "code",
   "execution_count": 57,
   "metadata": {},
   "outputs": [],
   "source": [
    "shop_encoder = {}\n",
    "for i, key in enumerate(list_keys):\n",
    "    shop_encoder[key] = list_embd[i]"
   ]
  },
  {
   "cell_type": "code",
   "execution_count": 62,
   "metadata": {},
   "outputs": [],
   "source": [
    "with open('./data/shop_encoder.pkl', 'wb') as enc:\n",
    "    pickle.dump(shop_encoder, enc,)"
   ]
  },
  {
   "cell_type": "code",
   "execution_count": 14,
   "metadata": {},
   "outputs": [],
   "source": [
    "with open('./model/nn_model.pkl', 'wb') as m:\n",
    "    pickle.dump(search_algo, m)"
   ]
  },
  {
   "cell_type": "code",
   "execution_count": 107,
   "metadata": {},
   "outputs": [],
   "source": [
    "class recommender():\n",
    "\n",
    "    def __init__(self, df):\n",
    "        self.model = pickle.load(open('./model/'+ 'nn_model' + '.pkl', 'rb')) # Sklearn model\n",
    "        self.encoder = pickle.load(open('./model/'+ 'shop_encoder' + '.pkl', 'rb')) # Dict\n",
    "        self.df = df[df['favorite'] == True]\n",
    "\n",
    "    def preprocess(self):\n",
    "        encoded_shop_ids = [self.encoder[v] for v in self.df.shop_id.values]\n",
    "\n",
    "        return np.mean(encoded_shop_ids, axis=0) \n",
    "    \n",
    "    def postprocess(self, embedding_position):\n",
    "        # Get key or shop_id from position\n",
    "        keys = list(self.encoder.keys())\n",
    "    \n",
    "        list_of_shopIds = [keys[i] for i in embedding_position]\n",
    "        return list_of_shopIds\n",
    "\n",
    "    def get_playlist(self, k):\n",
    "\n",
    "        embdedding_vector = self.preprocess()\n",
    "        k = 20 if k > 20 else k\n",
    "\n",
    "        topK = self.model.kneighbors(X=[embdedding_vector], n_neighbors=20, return_distance=False)\n",
    "\n",
    "        topShops = self.postprocess(topK[0])\n",
    "        \n",
    "        return topShops"
   ]
  },
  {
   "cell_type": "code",
   "execution_count": 114,
   "metadata": {},
   "outputs": [
    {
     "name": "stderr",
     "output_type": "stream",
     "text": [
      "/var/folders/1d/ych47sfj3755tjsj8j85ngf40000gn/T/ipykernel_58322/1906199920.py:1: FutureWarning: Setting an item of incompatible dtype is deprecated and will raise in a future error of pandas. Value 'False' has dtype incompatible with float64, please explicitly cast to a compatible dtype first.\n",
      "  df_shop.loc[10:, 'favorite'] = False\n"
     ]
    }
   ],
   "source": [
    "df_shop.loc[10:, 'favorite'] = False\n",
    "df_shop.loc[:40, 'favorite'] = True"
   ]
  },
  {
   "cell_type": "code",
   "execution_count": 109,
   "metadata": {},
   "outputs": [],
   "source": [
    "rec = recommender(df_shop)"
   ]
  },
  {
   "cell_type": "code",
   "execution_count": 110,
   "metadata": {},
   "outputs": [
    {
     "data": {
      "text/plain": [
       "[42154,\n",
       " 123495,\n",
       " 176680,\n",
       " 98344,\n",
       " 41629,\n",
       " 62448,\n",
       " 36083,\n",
       " 17285,\n",
       " 23240,\n",
       " 67255,\n",
       " 24142,\n",
       " 117673,\n",
       " 80483,\n",
       " 220358,\n",
       " 211594,\n",
       " 101087,\n",
       " 239977,\n",
       " 36971,\n",
       " 106861,\n",
       " 149362]"
      ]
     },
     "execution_count": 110,
     "metadata": {},
     "output_type": "execute_result"
    }
   ],
   "source": [
    "rec.get_playlist(10)"
   ]
  },
  {
   "cell_type": "code",
   "execution_count": 136,
   "metadata": {},
   "outputs": [],
   "source": [
    "df_shop = pd.read_csv(\"./data/shop_meta_data.csv\")"
   ]
  },
  {
   "cell_type": "code",
   "execution_count": 139,
   "metadata": {},
   "outputs": [],
   "source": [
    "df_shop.to_csv(\"./data/shop_meta_data.csv\", index=False)"
   ]
  },
  {
   "cell_type": "code",
   "execution_count": 137,
   "metadata": {},
   "outputs": [],
   "source": [
    "topHit_emoji = {\n",
    "    'cooked_to_order': '🍳',\n",
    "    'noodles': '🍜',\n",
    "    'drinks': '🍹',\n",
    "    'snacks': '🍿',\n",
    "    'bakery': '🥐',\n",
    "    'grill': '🍖',\n",
    "    'coffee/tea': '☕',\n",
    "    'single_dish': '🍛',\n",
    "    'ramen': '🍜',\n",
    "    'congee/rice_soup': '🥣',\n",
    "    'dessert': '🍰',\n",
    "    'fried_chicken': '🍗',\n",
    "    'shaved_ice': '🍧',\n",
    "    'sushi': '🍣',\n",
    "    'milk_tea': '🧋',\n",
    "    'fruits': '🍎',\n",
    "    'somtum': '🥗',\n",
    "    'steak': '🥩',\n",
    "    'shabu/bbq': '🍲',\n",
    "    'dimsum': '🥟',\n",
    "    'fast_food': '🍔',\n",
    "    'burgers': '🍔',\n",
    "    'spaghetti': '🍝',\n",
    "    'side_dish': '🧆',\n",
    "    'ice-cream': '🍦',\n",
    "    'seafood': '🦞',\n",
    "    'healthy': '🥗',\n",
    "    'pizza': '🍕',\n",
    "    'pickled_food': '🥒',\n",
    "    'ice': '🧊'\n",
    "}"
   ]
  },
  {
   "cell_type": "code",
   "execution_count": 138,
   "metadata": {},
   "outputs": [],
   "source": [
    "df_shop = df_shop[df_shop.shop_category.isin(list(topHit_emoji.keys()))]"
   ]
  },
  {
   "cell_type": "code",
   "execution_count": null,
   "metadata": {},
   "outputs": [],
   "source": []
  },
  {
   "cell_type": "code",
   "execution_count": 116,
   "metadata": {},
   "outputs": [],
   "source": [
    "df = df_shop[df_shop['favorite']==True]"
   ]
  },
  {
   "cell_type": "code",
   "execution_count": 5,
   "metadata": {},
   "outputs": [],
   "source": [
    "df_shop = pd.read_csv(\"./data/shop_meta_data.csv\", usecols=['shop_photo', 'shop_id', 'merchant_name', ])"
   ]
  },
  {
   "cell_type": "code",
   "execution_count": 9,
   "metadata": {},
   "outputs": [
    {
     "data": {
      "text/plain": [
       "'https://static.robinhood.in.th/merchant/shop/1616228248540_48R8J8BLOS.jpg'"
      ]
     },
     "execution_count": 9,
     "metadata": {},
     "output_type": "execute_result"
    }
   ],
   "source": [
    "df_shop['shop_photo'].apply(get_image_url)[0]"
   ]
  },
  {
   "cell_type": "code",
   "execution_count": 133,
   "metadata": {},
   "outputs": [],
   "source": [
    "purchased_list = list(df[['shop_name', 'shop_category']].groupby('shop_category').count().index)"
   ]
  },
  {
   "cell_type": "code",
   "execution_count": 122,
   "metadata": {},
   "outputs": [],
   "source": []
  },
  {
   "cell_type": "code",
   "execution_count": 134,
   "metadata": {},
   "outputs": [],
   "source": [
    "for i in range(len(topHit)):\n",
    "    if (topHit[i] not in purchased_list) & (len(purchased_list) <= 9):\n",
    "        purchased_list.append(topHit[i])"
   ]
  },
  {
   "cell_type": "code",
   "execution_count": 135,
   "metadata": {},
   "outputs": [
    {
     "data": {
      "text/plain": [
       "10"
      ]
     },
     "execution_count": 135,
     "metadata": {},
     "output_type": "execute_result"
    }
   ],
   "source": [
    "len(purchased_list)"
   ]
  },
  {
   "cell_type": "code",
   "execution_count": null,
   "metadata": {},
   "outputs": [],
   "source": []
  }
 ],
 "metadata": {
  "kernelspec": {
   "display_name": "datasci-food-poc-personalization",
   "language": "python",
   "name": "python3"
  },
  "language_info": {
   "codemirror_mode": {
    "name": "ipython",
    "version": 3
   },
   "file_extension": ".py",
   "mimetype": "text/x-python",
   "name": "python",
   "nbconvert_exporter": "python",
   "pygments_lexer": "ipython3",
   "version": "3.12.2"
  }
 },
 "nbformat": 4,
 "nbformat_minor": 2
}
